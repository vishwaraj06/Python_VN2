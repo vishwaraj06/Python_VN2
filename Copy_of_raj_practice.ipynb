{
  "nbformat": 4,
  "nbformat_minor": 0,
  "metadata": {
    "colab": {
      "name": "Copy of raj practice.ipynb",
      "provenance": [],
      "authorship_tag": "ABX9TyMTysoVjzvLAgJVCNaCw5+j",
      "include_colab_link": true
    },
    "kernelspec": {
      "name": "python3",
      "display_name": "Python 3"
    },
    "language_info": {
      "name": "python"
    }
  },
  "cells": [
    {
      "cell_type": "markdown",
      "metadata": {
        "id": "view-in-github",
        "colab_type": "text"
      },
      "source": [
        "<a href=\"https://colab.research.google.com/github/vishwaraj06/Python_VN2/blob/main/Copy_of_raj_practice.ipynb\" target=\"_parent\"><img src=\"https://colab.research.google.com/assets/colab-badge.svg\" alt=\"Open In Colab\"/></a>"
      ]
    },
    {
      "cell_type": "code",
      "execution_count": null,
      "metadata": {
        "colab": {
          "base_uri": "https://localhost:8080/"
        },
        "id": "xzN9vRp_fLGq",
        "outputId": "cdd103d1-b844-4d69-c9f9-fbd4a52eeeb7"
      },
      "outputs": [
        {
          "output_type": "stream",
          "name": "stdout",
          "text": [
            "Mounted at /content/drive\n"
          ]
        }
      ],
      "source": [
        "from google.colab import drive\n",
        "drive.mount('/content/drive')\n",
        "\n",
        "!apt-get install openjdk-8-jdk-headless -qq > /dev/null\n",
        "\n",
        "\n",
        "!wget -q https://dlcdn.apache.org/spark/spark-3.2.1/spark-3.2.1-bin-hadoop3.2.tgz\n",
        "\n",
        "\n",
        "\n",
        "!tar xf spark-3.2.1-bin-hadoop3.2.tgz\n",
        "\n",
        "!pip install -q findspark\n",
        "\n",
        "import os\n",
        "os.environ[\"JAVA_HOME\"] = \"/usr/lib/jvm/java-8-openjdk-amd64\"\n",
        "os.environ[\"SPARK_HOME\"] = \"/content/spark-3.2.1-bin-hadoop3.2\"\n",
        "\n",
        "import findspark\n",
        "findspark.init()\n",
        "\n",
        "findspark.find()\n",
        "\n",
        "from pyspark.sql import SparkSession\n",
        "\n",
        "spark = SparkSession.builder\\\n",
        "        .master(\"local\")\\\n",
        "        .appName(\"Colab\")\\\n",
        "        .config('spark.ui.port', '4050')\\\n",
        "        .getOrCreate()"
      ]
    },
    {
      "cell_type": "code",
      "source": [
        "df=spark.read.csv(\"1000 BT Records.csv\",inferSchema=True,header=True)"
      ],
      "metadata": {
        "id": "R6_wKjCqgCxu"
      },
      "execution_count": null,
      "outputs": []
    },
    {
      "cell_type": "code",
      "source": [
        "df.select(\"Date\").show(5)"
      ],
      "metadata": {
        "colab": {
          "base_uri": "https://localhost:8080/"
        },
        "id": "DYgtvUbOgNXW",
        "outputId": "d1dca6ad-638c-4856-ef1e-7287f7c8ca8b"
      },
      "execution_count": null,
      "outputs": [
        {
          "output_type": "stream",
          "name": "stdout",
          "text": [
            "+-----------+\n",
            "|       Date|\n",
            "+-----------+\n",
            "|20-Aug-2020|\n",
            "|20-Aug-2020|\n",
            "|20-Aug-2020|\n",
            "|21-Aug-2020|\n",
            "|21-Aug-2020|\n",
            "+-----------+\n",
            "only showing top 5 rows\n",
            "\n"
          ]
        }
      ]
    },
    {
      "cell_type": "code",
      "source": [
        "df2=df.select(\"Date\",\"Description\",\"Balance\")"
      ],
      "metadata": {
        "id": "UunDs26cgQ-0"
      },
      "execution_count": null,
      "outputs": []
    },
    {
      "cell_type": "code",
      "source": [
        "df2.show(5)"
      ],
      "metadata": {
        "colab": {
          "base_uri": "https://localhost:8080/"
        },
        "id": "NffIm4vNgRrQ",
        "outputId": "4fa59991-a5dd-4835-d148-853204ebf826"
      },
      "execution_count": null,
      "outputs": [
        {
          "output_type": "stream",
          "name": "stdout",
          "text": [
            "+-----------+-----------+----------+\n",
            "|       Date|Description|   Balance|\n",
            "+-----------+-----------+----------+\n",
            "|20-Aug-2020|     Cheque| 83,839.30|\n",
            "|20-Aug-2020|        ATM|231,683.50|\n",
            "|20-Aug-2020|       IMPS|248,875.50|\n",
            "|21-Aug-2020|   Transfer|248,883.50|\n",
            "|21-Aug-2020|   Purchase|165,922.33|\n",
            "+-----------+-----------+----------+\n",
            "only showing top 5 rows\n",
            "\n"
          ]
        }
      ]
    },
    {
      "cell_type": "code",
      "source": [
        "from datetime import datetime \n",
        "from pyspark.sql.functions import col, udf \n",
        "from pyspark.sql.types import *\n",
        "from pyspark.sql.types import IntegerType,BooleanType,DateType"
      ],
      "metadata": {
        "id": "BB3cfFjYgUCS"
      },
      "execution_count": null,
      "outputs": []
    },
    {
      "cell_type": "code",
      "source": [
        "df2.filter(col(\"Withdrawls\").isNotNull()).count()"
      ],
      "metadata": {
        "colab": {
          "base_uri": "https://localhost:8080/"
        },
        "id": "GjVpF_pxgapC",
        "outputId": "217e1fd7-20e7-485a-a8a6-f44fa503537c"
      },
      "execution_count": null,
      "outputs": [
        {
          "output_type": "execute_result",
          "data": {
            "text/plain": [
              "1000"
            ]
          },
          "metadata": {},
          "execution_count": 7
        }
      ]
    },
    {
      "cell_type": "code",
      "source": [
        "from datetime import datetime\n",
        "\n",
        "def try_parsing_date(text):\n",
        "    for fmt in ('%Y-%m-%d', '%d.%m.%Y', '%d/%m/%Y','%dd-%mm-%YYYY','%d-%m-%Y','%d-%b-%Y'):\n",
        "        try:\n",
        "          new=datetime.strptime(text, fmt)\n",
        "          new1=new.strftime('%d-%m-%Y')\n",
        "          return new1\n",
        "        except ValueError:\n",
        "            pass\n",
        "    raise ValueError('no valid date format found')"
      ],
      "metadata": {
        "id": "0wd1xD1qgbQJ"
      },
      "execution_count": null,
      "outputs": []
    },
    {
      "cell_type": "code",
      "source": [
        "date_udf=udf(lambda x:try_parsing_date(x))"
      ],
      "metadata": {
        "id": "d8AvGYuDgeNQ"
      },
      "execution_count": null,
      "outputs": []
    },
    {
      "cell_type": "code",
      "source": [
        "date_cha = df.select(col('date'),date_udf(col('date').alias('date_newwwww')))"
      ],
      "metadata": {
        "id": "xSI7FHhzgn-U"
      },
      "execution_count": null,
      "outputs": []
    },
    {
      "cell_type": "code",
      "source": [
        "date_cha.show(5)"
      ],
      "metadata": {
        "colab": {
          "base_uri": "https://localhost:8080/"
        },
        "id": "et5I8Xwbguz0",
        "outputId": "9190694c-34fe-4517-da40-2c61890cfdeb"
      },
      "execution_count": null,
      "outputs": [
        {
          "output_type": "stream",
          "name": "stdout",
          "text": [
            "+-----------+------------------------------+\n",
            "|       date|<lambda>(date AS date_newwwww)|\n",
            "+-----------+------------------------------+\n",
            "|20-Aug-2020|                    20-08-2020|\n",
            "|20-Aug-2020|                    20-08-2020|\n",
            "|20-Aug-2020|                    20-08-2020|\n",
            "|21-Aug-2020|                    21-08-2020|\n",
            "|21-Aug-2020|                    21-08-2020|\n",
            "+-----------+------------------------------+\n",
            "only showing top 5 rows\n",
            "\n"
          ]
        }
      ]
    },
    {
      "cell_type": "code",
      "source": [
        "pip install validate_email"
      ],
      "metadata": {
        "colab": {
          "base_uri": "https://localhost:8080/"
        },
        "id": "sDBtRxMSgxcm",
        "outputId": "6fca9830-0333-4146-dc85-dd5aa4bee473"
      },
      "execution_count": null,
      "outputs": [
        {
          "output_type": "stream",
          "name": "stdout",
          "text": [
            "Looking in indexes: https://pypi.org/simple, https://us-python.pkg.dev/colab-wheels/public/simple/\n",
            "Collecting validate_email\n",
            "  Downloading validate_email-1.3.tar.gz (4.7 kB)\n",
            "Building wheels for collected packages: validate-email\n",
            "  Building wheel for validate-email (setup.py) ... \u001b[?25l\u001b[?25hdone\n",
            "  Created wheel for validate-email: filename=validate_email-1.3-py3-none-any.whl size=5482 sha256=f6ed2fdcd1258b59690c0faa971697429a2c8a23f3465c5d6cf27a4b2e4b533d\n",
            "  Stored in directory: /root/.cache/pip/wheels/ff/8f/92/c43287715852eaa75e0d8aa1941c481072b4a82c4f4975074e\n",
            "Successfully built validate-email\n",
            "Installing collected packages: validate-email\n",
            "Successfully installed validate-email-1.3\n"
          ]
        }
      ]
    },
    {
      "cell_type": "code",
      "source": [
        "from validate_email import validate_email\n",
        "is_valid = validate_email(\"valid@mail.com\")"
      ],
      "metadata": {
        "id": "7UhC1eekhBP-"
      },
      "execution_count": null,
      "outputs": []
    },
    {
      "cell_type": "code",
      "source": [
        "new_mail=spark.read.csv(\"data_prep.csv\",inferSchema=True,header=True)"
      ],
      "metadata": {
        "id": "ruOzbsIShwTb"
      },
      "execution_count": null,
      "outputs": []
    },
    {
      "cell_type": "code",
      "source": [
        "new_mail.show(5)"
      ],
      "metadata": {
        "colab": {
          "base_uri": "https://localhost:8080/"
        },
        "id": "8fVnM461iCjl",
        "outputId": "147cf5b4-c2f8-46c0-cb17-8ec3ce08caa6"
      },
      "execution_count": null,
      "outputs": [
        {
          "output_type": "stream",
          "name": "stdout",
          "text": [
            "+------+---------------+----------+------+--------+\n",
            "|userid|        emailid|      date|amount|discount|\n",
            "+------+---------------+----------+------+--------+\n",
            "|     1|test1@gmail.com|01-01-2019|   100|     1.0|\n",
            "|     2|test2@gmail.com|02-01-2019|   100|     1.0|\n",
            "|     3|test3@gmail.com|03-01-2019|   101|     2.0|\n",
            "|     4|test4@gmail.com|04-01-2019|   102|    10.0|\n",
            "|     5|test5@gmail.com|05-01-2019| 102.5|     2.0|\n",
            "+------+---------------+----------+------+--------+\n",
            "only showing top 5 rows\n",
            "\n"
          ]
        }
      ]
    },
    {
      "cell_type": "code",
      "source": [
        "def email_validation(str):\n",
        "  is_valid = validate_email(str)\n",
        "  if is_valid:\n",
        "    return str\n",
        "  else:\n",
        "    \"error\""
      ],
      "metadata": {
        "id": "7baziqoihNgq"
      },
      "execution_count": null,
      "outputs": []
    },
    {
      "cell_type": "code",
      "source": [
        "email_udf = udf(lambda x : email_validation(x))"
      ],
      "metadata": {
        "id": "Z7wj2XuZhaYk"
      },
      "execution_count": null,
      "outputs": []
    },
    {
      "cell_type": "code",
      "source": [
        "After_Validation = new_mail.select(col('emailid'),email_udf(col('emailid').alias('emailid_validated')))"
      ],
      "metadata": {
        "id": "6uvQVTyWhgPS"
      },
      "execution_count": null,
      "outputs": []
    },
    {
      "cell_type": "code",
      "source": [
        "After_Validation.show(5)"
      ],
      "metadata": {
        "colab": {
          "base_uri": "https://localhost:8080/"
        },
        "id": "IAI8RqAOiLXZ",
        "outputId": "5bf8dd13-cf51-452d-dd4d-ba25bc77da96"
      },
      "execution_count": null,
      "outputs": [
        {
          "output_type": "stream",
          "name": "stdout",
          "text": [
            "+---------------+--------------------------------------+\n",
            "|        emailid|<lambda>(emailid AS emailid_validated)|\n",
            "+---------------+--------------------------------------+\n",
            "|test1@gmail.com|                       test1@gmail.com|\n",
            "|test2@gmail.com|                       test2@gmail.com|\n",
            "|test3@gmail.com|                       test3@gmail.com|\n",
            "|test4@gmail.com|                       test4@gmail.com|\n",
            "|test5@gmail.com|                       test5@gmail.com|\n",
            "+---------------+--------------------------------------+\n",
            "only showing top 5 rows\n",
            "\n"
          ]
        }
      ]
    },
    {
      "cell_type": "code",
      "source": [
        "def zero_fun(x):\n",
        "  try:\n",
        "    int_x = int(x)\n",
        "    print(int_x)\n",
        "    if int_x ==0:\n",
        "      return 'ERROR'\n",
        "    return x\n",
        "  except ValueError:\n",
        "    if x =='00.00':\n",
        "      return 'NIL'\n",
        "    return x"
      ],
      "metadata": {
        "id": "zQTwnTCQiNv4"
      },
      "execution_count": null,
      "outputs": []
    },
    {
      "cell_type": "code",
      "source": [
        "zero_UDF = udf(lambda x : zero_fun(x))"
      ],
      "metadata": {
        "id": "Rp0OwtuBjmSp"
      },
      "execution_count": null,
      "outputs": []
    },
    {
      "cell_type": "code",
      "source": [
        "Zero_udf=df.select(df.Date, zero_UDF(col(\"Balance\")).alias(\"Bal\"))"
      ],
      "metadata": {
        "id": "nDx9jhfNjnkt"
      },
      "execution_count": null,
      "outputs": []
    },
    {
      "cell_type": "code",
      "source": [
        "Zero_udf.show(13)"
      ],
      "metadata": {
        "colab": {
          "base_uri": "https://localhost:8080/"
        },
        "id": "suC90GgfjyFK",
        "outputId": "a94fb307-d824-4555-b026-4bcfbe64122c"
      },
      "execution_count": null,
      "outputs": [
        {
          "output_type": "stream",
          "name": "stdout",
          "text": [
            "+-----------+------------+\n",
            "|       Date|         Bal|\n",
            "+-----------+------------+\n",
            "|20-Aug-2020|   83,839.30|\n",
            "|20-Aug-2020|  231,683.50|\n",
            "|20-Aug-2020|  248,875.50|\n",
            "|21-Aug-2020|  248,883.50|\n",
            "|21-Aug-2020|  165,922.33|\n",
            "|21-Aug-2020|  190,381.73|\n",
            "|21-Aug-2020|  171,343.56|\n",
            "|21-Aug-2020|  477,221.56|\n",
            "|21-Aug-2020|1,621,559.36|\n",
            "|21-Aug-2020|1,216,169.52|\n",
            "|21-Aug-2020|1,216,202.60|\n",
            "|21-Aug-2020|1,236,216.62|\n",
            "|21-Aug-2020|         NIL|\n",
            "+-----------+------------+\n",
            "only showing top 13 rows\n",
            "\n"
          ]
        }
      ]
    },
    {
      "cell_type": "code",
      "source": [
        "parquet_df=spark.read.parquet(\"userdata4.parquet\")\n"
      ],
      "metadata": {
        "id": "cH2JUZrRj0fC"
      },
      "execution_count": null,
      "outputs": []
    },
    {
      "cell_type": "code",
      "source": [
        "parquet_df.show()"
      ],
      "metadata": {
        "colab": {
          "base_uri": "https://localhost:8080/"
        },
        "id": "zSsyyQZflv7j",
        "outputId": "b2c383a1-5057-49d9-9c89-a0c4a3354837"
      },
      "execution_count": null,
      "outputs": [
        {
          "output_type": "stream",
          "name": "stdout",
          "text": [
            "+-------------------+---+----------+----------+--------------------+------+---------------+-------------------+-------------+----------+---------+--------------------+--------+\n",
            "|  registration_dttm| id|first_name| last_name|               email|gender|     ip_address|                 cc|      country| birthdate|   salary|               title|comments|\n",
            "+-------------------+---+----------+----------+--------------------+------+---------------+-------------------+-------------+----------+---------+--------------------+--------+\n",
            "|2016-02-04 15:28:05|  1|    Howard|    Morgan|hmorgan0@typepad.com|      | 158.178.195.62|                   |     Colombia| 12/2/1992|     null|     Data Coordiator|        |\n",
            "|2016-02-04 10:28:40|  2|   Jessica|   Schmidt|jschmidt1@google.com|Female| 168.118.247.35|   3565285464047941|   Luxembourg| 4/14/1995|222396.46|      Research Nurse|     nil|\n",
            "|2016-02-04 18:01:36|  3|   Beverly|    Flores|bflores2@wikipedi...|Female|   51.97.88.173|                   |       Sweden| 2/15/1965| 141112.8|             Actuary|        |\n",
            "|2016-02-04 08:51:14|  4|   Marilyn|   Sanchez| msanchez3@intel.com|Female|186.206.142.162|                   |        China|  8/6/1969| 87914.29| Structural Engineer|        |\n",
            "|2016-02-04 06:33:08|  5|    Janice|  Mitchell|jmitchell4@sina.c...|Female|205.187.116.241|5610719759939376962|       Poland|  7/4/1995| 269297.4|Systems Administr...|        |\n",
            "|2016-02-04 00:20:27|  6|   William|Williamson|wwilliamson5@trel...|  Male|   44.86.73.201|    201849487683564|    Indonesia| 12/6/1993| 95352.25|           Librarian|   1E+02|\n",
            "|2016-02-04 16:10:12|  7|      Jack|     James|   jjames6@sogou.com|  Male|  59.184.76.208|   3552911855395632|    Indonesia|11/25/1968| 82549.73|Compensation Analyst| ‪‪test‪|\n",
            "|2016-02-04 03:25:25|  8|     Jesse|    Arnold|    jarnold7@soup.io|  Male|     7.25.90.13|   5100177285965756|       Brazil|10/19/1987|257968.86| Executive Secretary|        |\n",
            "|2016-02-04 21:50:27|  9|      Lori|     Woods|lwoods8@fastcompa...|Female|  147.157.215.9|   4844532485570190|    Indonesia|12/26/1975|186145.91|      Health Coach I|        |\n",
            "|2016-02-04 15:57:35| 10|      Juan|     Evans|  jevans9@zimbio.com|  Male|150.132.218.181|   3578802610769023|  Philippines| 5/29/1988|129369.52|       Social Worker|        |\n",
            "|2016-02-04 09:51:30| 11|       Roy|  Matthews| rmatthewsa@ucsd.edu|  Male| 203.239.85.224|   5100135134598509|       Russia|          |192057.84|                    |        |\n",
            "|2016-02-04 11:42:25| 12|   Kenneth|      King|   kkingb@zimbio.com|      |   9.103.96.206| 675913564329481832|       Greece|          |     null|                    |        |\n",
            "|2016-02-04 06:50:00| 13|   Raymond|     Green|     rgreenc@fc2.com|  Male|   163.9.101.43|                   |United States| 1/28/1984|225094.01|Budget/Accounting...|        |\n",
            "|2016-02-04 16:28:20| 14|   Lillian|  Stephens|  lstephensd@psu.edu|Female|   31.50.183.23| 630455284969060148|      Finland|  6/1/1973| 19354.85|Information Syste...|        |\n",
            "|2016-02-04 04:38:17| 15|      Mary|  Gonzales|mgonzalese@wired.com|Female|   91.42.17.109|   3560985473023370|       France|  5/7/1966| 23746.36|Compensation Analyst|        |\n",
            "|2016-02-04 04:58:15| 16|     Roger|     Mason|rmasonf@newyorker...|  Male| 169.33.172.204|   3545036194973129|       Norway|          |165855.47|                    |        |\n",
            "|2016-02-04 16:43:18| 17|     Diane|      Cole|   dcoleg@unesco.org|Female|  157.11.85.209|                   |  Philippines|  6/9/1994|105028.67|   Assistant Manager|        |\n",
            "|2016-02-04 15:54:30| 18|     Annie|      Hunt|    ahunth@ocn.ne.jp|Female| 169.47.232.187|   5100177440436305|       Poland| 3/30/1992| 266071.6|     Legal Assistant|        |\n",
            "|2016-02-04 15:47:52| 19|Jacqueline|   Bradley|   jbradleyi@epa.gov|Female|  83.241.214.77|   5100131814165289|    Indonesia| 12/1/1971| 55440.88|    Dental Hygienist|        |\n",
            "|2016-02-04 15:37:28| 20|     Kathy|   Russell|krussellj@joomla.org|Female|   158.32.89.44|   3585627581021729|    Indonesia|11/20/1999| 29602.23|Sales Representative|        |\n",
            "+-------------------+---+----------+----------+--------------------+------+---------------+-------------------+-------------+----------+---------+--------------------+--------+\n",
            "only showing top 20 rows\n",
            "\n"
          ]
        }
      ]
    },
    {
      "cell_type": "code",
      "source": [
        "json_df=spark.read.json(\"/content/part-00000-74edbdc7-7bd4-43c1-aabd-2d069628baf8-c000.json\")"
      ],
      "metadata": {
        "id": "qEOAmTHiLSyb"
      },
      "execution_count": null,
      "outputs": []
    },
    {
      "cell_type": "code",
      "source": [
        "json_df.show(5)"
      ],
      "metadata": {
        "colab": {
          "base_uri": "https://localhost:8080/"
        },
        "id": "WAC3c9YvLu2a",
        "outputId": "e7dd7167-3126-4e23-9fda-657811bcae14"
      },
      "execution_count": null,
      "outputs": [
        {
          "output_type": "stream",
          "name": "stdout",
          "text": [
            "+------+----------+--------+---------------+-----+------+----+\n",
            "|amount|      date|discount|        emailid|month|userid|year|\n",
            "+------+----------+--------+---------------+-----+------+----+\n",
            "|   100|01-01-2019|     1.0|test1@gmail.com|   01|     1|2019|\n",
            "|   100|02-01-2019|     1.0|test2@gmail.com|   01|     2|2019|\n",
            "|   101|03-01-2019|     2.0|test3@gmail.com|   01|     3|2019|\n",
            "|   102|04-01-2019|    10.0|test4@gmail.com|   01|     4|2019|\n",
            "| 102.5|05-01-2019|     2.0|test5@gmail.com|   01|     5|2019|\n",
            "+------+----------+--------+---------------+-----+------+----+\n",
            "only showing top 5 rows\n",
            "\n"
          ]
        }
      ]
    },
    {
      "cell_type": "code",
      "source": [
        "json_df.write.parquet(\"Json_converted_Parquet\")"
      ],
      "metadata": {
        "id": "cCGucq7tLxE3"
      },
      "execution_count": null,
      "outputs": []
    },
    {
      "cell_type": "code",
      "source": [
        "new_par=spark.read.parquet(\"/content/Json_converted_Parquet/part-00000-323b0fae-f621-4333-8b8d-19f684b957ae-c000.snappy.parquet\").show(5)"
      ],
      "metadata": {
        "colab": {
          "base_uri": "https://localhost:8080/"
        },
        "id": "pVujfW-8Pkg9",
        "outputId": "db15d255-3941-44a7-83d2-25e9ac02e11a"
      },
      "execution_count": null,
      "outputs": [
        {
          "output_type": "stream",
          "name": "stdout",
          "text": [
            "+------+----------+--------+---------------+-----+------+----+\n",
            "|amount|      date|discount|        emailid|month|userid|year|\n",
            "+------+----------+--------+---------------+-----+------+----+\n",
            "|   100|01-01-2019|     1.0|test1@gmail.com|   01|     1|2019|\n",
            "|   100|02-01-2019|     1.0|test2@gmail.com|   01|     2|2019|\n",
            "|   101|03-01-2019|     2.0|test3@gmail.com|   01|     3|2019|\n",
            "|   102|04-01-2019|    10.0|test4@gmail.com|   01|     4|2019|\n",
            "| 102.5|05-01-2019|     2.0|test5@gmail.com|   01|     5|2019|\n",
            "+------+----------+--------+---------------+-----+------+----+\n",
            "only showing top 5 rows\n",
            "\n"
          ]
        }
      ]
    },
    {
      "cell_type": "code",
      "source": [
        "parquet_df.write.json(\"parquet_converted_json\")"
      ],
      "metadata": {
        "id": "3OfAsY-kPucH"
      },
      "execution_count": null,
      "outputs": []
    },
    {
      "cell_type": "code",
      "source": [
        "new_json=spark.read.json(\"/content/parquet_converted_json/part-00000-da4e0361-0cd8-4767-8fb2-32c0d2279d11-c000.json\")"
      ],
      "metadata": {
        "id": "YET-fK-PRlWb"
      },
      "execution_count": null,
      "outputs": []
    },
    {
      "cell_type": "code",
      "source": [
        "new_json.show(5)"
      ],
      "metadata": {
        "colab": {
          "base_uri": "https://localhost:8080/"
        },
        "id": "msIGPUrBRwGg",
        "outputId": "c2a6aaa3-81c4-4f19-dc96-2dd8c022fea2"
      },
      "execution_count": null,
      "outputs": [
        {
          "output_type": "stream",
          "name": "stdout",
          "text": [
            "+---------+-------------------+--------+----------+--------------------+----------+------+---+---------------+---------+--------------------+---------+--------------------+\n",
            "|birthdate|                 cc|comments|   country|               email|first_name|gender| id|     ip_address|last_name|   registration_dttm|   salary|               title|\n",
            "+---------+-------------------+--------+----------+--------------------+----------+------+---+---------------+---------+--------------------+---------+--------------------+\n",
            "|12/2/1992|                   |        |  Colombia|hmorgan0@typepad.com|    Howard|      |  1| 158.178.195.62|   Morgan|2016-02-04T15:28:...|     null|     Data Coordiator|\n",
            "|4/14/1995|   3565285464047941|     nil|Luxembourg|jschmidt1@google.com|   Jessica|Female|  2| 168.118.247.35|  Schmidt|2016-02-04T10:28:...|222396.46|      Research Nurse|\n",
            "|2/15/1965|                   |        |    Sweden|bflores2@wikipedi...|   Beverly|Female|  3|   51.97.88.173|   Flores|2016-02-04T18:01:...| 141112.8|             Actuary|\n",
            "| 8/6/1969|                   |        |     China| msanchez3@intel.com|   Marilyn|Female|  4|186.206.142.162|  Sanchez|2016-02-04T08:51:...| 87914.29| Structural Engineer|\n",
            "| 7/4/1995|5610719759939376962|        |    Poland|jmitchell4@sina.c...|    Janice|Female|  5|205.187.116.241| Mitchell|2016-02-04T06:33:...| 269297.4|Systems Administr...|\n",
            "+---------+-------------------+--------+----------+--------------------+----------+------+---+---------------+---------+--------------------+---------+--------------------+\n",
            "only showing top 5 rows\n",
            "\n"
          ]
        }
      ]
    },
    {
      "cell_type": "code",
      "source": [
        "df.write.json(\"CSV_converted_json\")"
      ],
      "metadata": {
        "colab": {
          "base_uri": "https://localhost:8080/",
          "height": 325
        },
        "id": "Y0JRumagRyzu",
        "outputId": "4b570889-9172-44d5-fff2-4e6984bc5845"
      },
      "execution_count": null,
      "outputs": [
        {
          "output_type": "error",
          "ename": "AnalysisException",
          "evalue": "ignored",
          "traceback": [
            "\u001b[0;31m---------------------------------------------------------------------------\u001b[0m",
            "\u001b[0;31mAnalysisException\u001b[0m                         Traceback (most recent call last)",
            "\u001b[0;32m<ipython-input-47-8320567fc3ec>\u001b[0m in \u001b[0;36m<module>\u001b[0;34m()\u001b[0m\n\u001b[0;32m----> 1\u001b[0;31m \u001b[0mdf\u001b[0m\u001b[0;34m.\u001b[0m\u001b[0mwrite\u001b[0m\u001b[0;34m.\u001b[0m\u001b[0mjson\u001b[0m\u001b[0;34m(\u001b[0m\u001b[0;34m\"CSV_converted_json\"\u001b[0m\u001b[0;34m)\u001b[0m\u001b[0;34m\u001b[0m\u001b[0;34m\u001b[0m\u001b[0m\n\u001b[0m",
            "\u001b[0;32m/content/spark-3.2.1-bin-hadoop3.2/python/pyspark/sql/readwriter.py\u001b[0m in \u001b[0;36mjson\u001b[0;34m(self, path, mode, compression, dateFormat, timestampFormat, lineSep, encoding, ignoreNullFields)\u001b[0m\n\u001b[1;32m    844\u001b[0m             \u001b[0mcompression\u001b[0m\u001b[0;34m=\u001b[0m\u001b[0mcompression\u001b[0m\u001b[0;34m,\u001b[0m \u001b[0mdateFormat\u001b[0m\u001b[0;34m=\u001b[0m\u001b[0mdateFormat\u001b[0m\u001b[0;34m,\u001b[0m \u001b[0mtimestampFormat\u001b[0m\u001b[0;34m=\u001b[0m\u001b[0mtimestampFormat\u001b[0m\u001b[0;34m,\u001b[0m\u001b[0;34m\u001b[0m\u001b[0;34m\u001b[0m\u001b[0m\n\u001b[1;32m    845\u001b[0m             lineSep=lineSep, encoding=encoding, ignoreNullFields=ignoreNullFields)\n\u001b[0;32m--> 846\u001b[0;31m         \u001b[0mself\u001b[0m\u001b[0;34m.\u001b[0m\u001b[0m_jwrite\u001b[0m\u001b[0;34m.\u001b[0m\u001b[0mjson\u001b[0m\u001b[0;34m(\u001b[0m\u001b[0mpath\u001b[0m\u001b[0;34m)\u001b[0m\u001b[0;34m\u001b[0m\u001b[0;34m\u001b[0m\u001b[0m\n\u001b[0m\u001b[1;32m    847\u001b[0m \u001b[0;34m\u001b[0m\u001b[0m\n\u001b[1;32m    848\u001b[0m     \u001b[0;32mdef\u001b[0m \u001b[0mparquet\u001b[0m\u001b[0;34m(\u001b[0m\u001b[0mself\u001b[0m\u001b[0;34m,\u001b[0m \u001b[0mpath\u001b[0m\u001b[0;34m,\u001b[0m \u001b[0mmode\u001b[0m\u001b[0;34m=\u001b[0m\u001b[0;32mNone\u001b[0m\u001b[0;34m,\u001b[0m \u001b[0mpartitionBy\u001b[0m\u001b[0;34m=\u001b[0m\u001b[0;32mNone\u001b[0m\u001b[0;34m,\u001b[0m \u001b[0mcompression\u001b[0m\u001b[0;34m=\u001b[0m\u001b[0;32mNone\u001b[0m\u001b[0;34m)\u001b[0m\u001b[0;34m:\u001b[0m\u001b[0;34m\u001b[0m\u001b[0;34m\u001b[0m\u001b[0m\n",
            "\u001b[0;32m/content/spark-3.2.1-bin-hadoop3.2/python/lib/py4j-0.10.9.3-src.zip/py4j/java_gateway.py\u001b[0m in \u001b[0;36m__call__\u001b[0;34m(self, *args)\u001b[0m\n\u001b[1;32m   1320\u001b[0m         \u001b[0manswer\u001b[0m \u001b[0;34m=\u001b[0m \u001b[0mself\u001b[0m\u001b[0;34m.\u001b[0m\u001b[0mgateway_client\u001b[0m\u001b[0;34m.\u001b[0m\u001b[0msend_command\u001b[0m\u001b[0;34m(\u001b[0m\u001b[0mcommand\u001b[0m\u001b[0;34m)\u001b[0m\u001b[0;34m\u001b[0m\u001b[0;34m\u001b[0m\u001b[0m\n\u001b[1;32m   1321\u001b[0m         return_value = get_return_value(\n\u001b[0;32m-> 1322\u001b[0;31m             answer, self.gateway_client, self.target_id, self.name)\n\u001b[0m\u001b[1;32m   1323\u001b[0m \u001b[0;34m\u001b[0m\u001b[0m\n\u001b[1;32m   1324\u001b[0m         \u001b[0;32mfor\u001b[0m \u001b[0mtemp_arg\u001b[0m \u001b[0;32min\u001b[0m \u001b[0mtemp_args\u001b[0m\u001b[0;34m:\u001b[0m\u001b[0;34m\u001b[0m\u001b[0;34m\u001b[0m\u001b[0m\n",
            "\u001b[0;32m/content/spark-3.2.1-bin-hadoop3.2/python/pyspark/sql/utils.py\u001b[0m in \u001b[0;36mdeco\u001b[0;34m(*a, **kw)\u001b[0m\n\u001b[1;32m    115\u001b[0m                 \u001b[0;31m# Hide where the exception came from that shows a non-Pythonic\u001b[0m\u001b[0;34m\u001b[0m\u001b[0;34m\u001b[0m\u001b[0;34m\u001b[0m\u001b[0m\n\u001b[1;32m    116\u001b[0m                 \u001b[0;31m# JVM exception message.\u001b[0m\u001b[0;34m\u001b[0m\u001b[0;34m\u001b[0m\u001b[0;34m\u001b[0m\u001b[0m\n\u001b[0;32m--> 117\u001b[0;31m                 \u001b[0;32mraise\u001b[0m \u001b[0mconverted\u001b[0m \u001b[0;32mfrom\u001b[0m \u001b[0;32mNone\u001b[0m\u001b[0;34m\u001b[0m\u001b[0;34m\u001b[0m\u001b[0m\n\u001b[0m\u001b[1;32m    118\u001b[0m             \u001b[0;32melse\u001b[0m\u001b[0;34m:\u001b[0m\u001b[0;34m\u001b[0m\u001b[0;34m\u001b[0m\u001b[0m\n\u001b[1;32m    119\u001b[0m                 \u001b[0;32mraise\u001b[0m\u001b[0;34m\u001b[0m\u001b[0;34m\u001b[0m\u001b[0m\n",
            "\u001b[0;31mAnalysisException\u001b[0m: path file:/content/CSV_converted_json already exists."
          ]
        }
      ]
    },
    {
      "cell_type": "code",
      "source": [
        "new_update_json=spark.read.json(\"/content/CSV_converted_json/part-00000-7f9cedb3-8a90-473a-9963-89c9fdcc0f43-c000.json\")"
      ],
      "metadata": {
        "id": "Mk1r9nwRSHSU"
      },
      "execution_count": null,
      "outputs": []
    },
    {
      "cell_type": "code",
      "source": [
        "new_update_json.show(5)"
      ],
      "metadata": {
        "colab": {
          "base_uri": "https://localhost:8080/"
        },
        "id": "2CycO7iQSj5I",
        "outputId": "b49d6993-5297-4531-b639-0b3411f50645"
      },
      "execution_count": null,
      "outputs": [
        {
          "output_type": "stream",
          "name": "stdout",
          "text": [
            "+----------+-----------+----------+-----------+----------+\n",
            "|   Balance|       Date|  Deposits|Description|Withdrawls|\n",
            "+----------+-----------+----------+-----------+----------+\n",
            "| 83,839.30|20-Aug-2020|  3,391.02|     Cheque|     00.00|\n",
            "|231,683.50|20-Aug-2020|147,844.20|        ATM|     00.00|\n",
            "|248,875.50|20-Aug-2020| 17,192.00|       IMPS|     00.00|\n",
            "|248,883.50|21-Aug-2020|     08.00|   Transfer|     00.00|\n",
            "|165,922.33|21-Aug-2020|     00.00|   Purchase| 82,961.17|\n",
            "+----------+-----------+----------+-----------+----------+\n",
            "only showing top 5 rows\n",
            "\n"
          ]
        }
      ]
    },
    {
      "cell_type": "code",
      "source": [
        ""
      ],
      "metadata": {
        "id": "p1fVc0X4Smp-"
      },
      "execution_count": null,
      "outputs": []
    }
  ]
}